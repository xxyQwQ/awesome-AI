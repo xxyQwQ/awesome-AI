{
 "cells": [
  {
   "cell_type": "markdown",
   "metadata": {},
   "source": [
    "## 第一次编程小作业（10分）"
   ]
  },
  {
   "cell_type": "markdown",
   "metadata": {},
   "source": [
    "综合练习1：从键盘读入一组字符串（字符串只包含大小写字母），字符串用空格分隔。由于这组字符串是人名，请把每个单词的首字母大写，其他字母小写。然后按照首字母的ASCII码的顺序降序输出。（3分）"
   ]
  },
  {
   "cell_type": "code",
   "execution_count": 2,
   "metadata": {},
   "outputs": [
    {
     "name": "stdout",
     "output_type": "stream",
     "text": [
      "Zhao, Sun, Qian, Li\n"
     ]
    },
    {
     "data": {
      "text/plain": [
       "\"\\nInput: strings = 'zhao qian sun li'\\nExpected Output: Zhao, Sun, Qian, Li\\n\\n\""
      ]
     },
     "execution_count": 2,
     "metadata": {},
     "output_type": "execute_result"
    }
   ],
   "source": [
    "# 综合练习1\n",
    "\n",
    "strings = input()\n",
    "\n",
    "def convert_strings(strings):\n",
    "    toName = lambda s: s[0].upper() + s[1:].lower()\n",
    "    result = sorted(map(toName, strings.split()), reverse=True)\n",
    "    return result\n",
    "\n",
    "names = convert_strings(strings)\n",
    "print(\", \".join(names))\n",
    "\n",
    "'''\n",
    "Input: strings = 'zhao qian sun li'\n",
    "Expected Output: Zhao, Sun, Qian, Li\n",
    "\n",
    "'''"
   ]
  },
  {
   "cell_type": "markdown",
   "metadata": {},
   "source": [
    "综合练习2:设计一个函数，可用于自动判断二进制、八进制、十六进制输入，并转换成十进制。可以使用内置函数实现（3分）。自定义的进制转换实现（1分）。"
   ]
  },
  {
   "cell_type": "code",
   "execution_count": 1,
   "metadata": {},
   "outputs": [
    {
     "name": "stdout",
     "output_type": "stream",
     "text": [
      "Builtin version: [7, 2730, 671]\n",
      "Personal version: [7, 2730, 671]\n"
     ]
    },
    {
     "data": {
      "text/plain": [
       "\"\\nInputs: '0b111', '0xaaa', '0o1237'\\nExpected Outputs: 7, 2730, 671\\n\""
      ]
     },
     "execution_count": 1,
     "metadata": {},
     "output_type": "execute_result"
    }
   ],
   "source": [
    "# 综合练习2\n",
    "\n",
    "origin = ['0b111', '0xaaa', '0o1237']\n",
    "\n",
    "def convert_binary2_builtin(num):\n",
    "    result = eval(num)\n",
    "    return result\n",
    "\n",
    "def convert_binary2(num):\n",
    "    num = num.lower()\n",
    "    val = ['0', '1', '2', '3', '4', '5', '6', '7', '8', '9', 'a', 'b', 'c', 'd', 'e', 'f']\n",
    "    key = 2 if num[1] == 'b' else 8 if num[1] == 'o' else 16 if num[1] == 'x' else 0\n",
    "    num = num[2:]\n",
    "    result = 0\n",
    "    for n in num:\n",
    "        result = result * key + val.index(n)\n",
    "    return result\n",
    "\n",
    "# 内置函数\n",
    "trans_builtin = lambda x: convert_binary2_builtin(x)\n",
    "result_builtin = list(map(trans_builtin, origin))\n",
    "print('Builtin version:', result_builtin)\n",
    "\n",
    "# 自定义进制转换\n",
    "trans = lambda x: convert_binary2(x)\n",
    "result = list(map(trans, origin))\n",
    "print('Personal version:', result)\n",
    "\n",
    "'''\n",
    "Inputs: '0b111', '0xaaa', '0o1237'\n",
    "Expected Outputs: 7, 2730, 671\n",
    "'''"
   ]
  },
  {
   "cell_type": "markdown",
   "metadata": {},
   "source": [
    "综合练习3: 设计一个装饰器。要求作用在任何函数上时都可以得到这个函数的执行时间。装饰器的输出格式如下：“A executed in B ms”。其中A为被装饰函数的名字，B为时间。(3分)"
   ]
  },
  {
   "cell_type": "code",
   "execution_count": 3,
   "metadata": {},
   "outputs": [
    {
     "name": "stdout",
     "output_type": "stream",
     "text": [
      "test executed in 0.0019943714141845703 ms\n",
      "test executed in 0.0009961128234863281 ms\n"
     ]
    },
    {
     "data": {
      "text/plain": [
       "'\\nExpected Outputs:\\ntest executed in 0.0071620941162109375 ms\\ntest executed in 0.0013530254364013672 ms\\n'"
      ]
     },
     "execution_count": 3,
     "metadata": {},
     "output_type": "execute_result"
    }
   ],
   "source": [
    "# 综合练习3\n",
    "\n",
    "import time, functools\n",
    "\n",
    "def metric(fn):\n",
    "    @functools.wraps(fn)\n",
    "    def wrapper(*args):\n",
    "        begin = time.time()\n",
    "        result = fn(*args)\n",
    "        end = time.time()\n",
    "        print('{} executed in {} ms'.format(fn.__name__, end - begin))\n",
    "        return result\n",
    "    return wrapper\n",
    "\n",
    "@metric\n",
    "def test(x):\n",
    "    for _ in range(x):\n",
    "        continue\n",
    "\n",
    "test(100000)\n",
    "test(19000)\n",
    "\n",
    "'''\n",
    "Expected Outputs:\n",
    "test executed in 0.0071620941162109375 ms\n",
    "test executed in 0.0013530254364013672 ms\n",
    "'''"
   ]
  }
 ],
 "metadata": {
  "kernelspec": {
   "display_name": "Python 3.9.7 ('base')",
   "language": "python",
   "name": "python3"
  },
  "language_info": {
   "codemirror_mode": {
    "name": "ipython",
    "version": 3
   },
   "file_extension": ".py",
   "mimetype": "text/x-python",
   "name": "python",
   "nbconvert_exporter": "python",
   "pygments_lexer": "ipython3",
   "version": "3.9.7"
  },
  "vscode": {
   "interpreter": {
    "hash": "77f56f57217d58f2637a78f43068bb82a198c4b9b7dc36d7b5b03538627b73d0"
   }
  }
 },
 "nbformat": 4,
 "nbformat_minor": 4
}

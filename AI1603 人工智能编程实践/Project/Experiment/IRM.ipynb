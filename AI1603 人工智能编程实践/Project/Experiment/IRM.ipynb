{
 "cells": [
  {
   "cell_type": "markdown",
   "source": [
    "#### Import packages & Enable CUDA"
   ],
   "metadata": {
    "collapsed": false,
    "pycharm": {
     "name": "#%% md\n"
    }
   }
  },
  {
   "cell_type": "code",
   "execution_count": 1,
   "outputs": [
    {
     "name": "stdout",
     "output_type": "stream",
     "text": [
      "Device: cuda:0\n"
     ]
    }
   ],
   "source": [
    "import torch\n",
    "from torch import nn, optim, autograd\n",
    "from torch.nn import functional as F\n",
    "from torchvision import datasets, transforms\n",
    "import numpy as np\n",
    "import matplotlib.pyplot as plt\n",
    "\n",
    "device = torch.device(\"cuda:0\" if torch.cuda.is_available() else \"cpu\")\n",
    "print(\"Device: {}\".format(device))"
   ],
   "metadata": {
    "collapsed": false,
    "pycharm": {
     "name": "#%%\n"
    }
   }
  },
  {
   "cell_type": "markdown",
   "source": [
    "#### Colored MNIST dataset"
   ],
   "metadata": {
    "collapsed": false,
    "pycharm": {
     "name": "#%% md\n"
    }
   }
  },
  {
   "cell_type": "code",
   "execution_count": 2,
   "outputs": [],
   "source": [
    "class MNISTDataset(datasets.VisionDataset):\n",
    "    def __init__(self, root: str) -> None:\n",
    "        super(MNISTDataset, self).__init__(root)\n",
    "        self.data_label = torch.load(root)\n",
    "        self.transform = transforms.Compose([\n",
    "            transforms.Resize(14),\n",
    "            transforms.ToTensor()\n",
    "        ])\n",
    "\n",
    "    def __len__(self) -> int:\n",
    "        return 20000\n",
    "\n",
    "    def __getitem__(self, index):\n",
    "        image, target = self.data_label[index]\n",
    "        return self.transform(image), target"
   ],
   "metadata": {
    "collapsed": false,
    "pycharm": {
     "name": "#%%\n"
    }
   }
  },
  {
   "cell_type": "markdown",
   "source": [
    "#### Environment Definition & Instantiation"
   ],
   "metadata": {
    "collapsed": false,
    "pycharm": {
     "name": "#%% md\n"
    }
   }
  },
  {
   "cell_type": "code",
   "execution_count": 3,
   "outputs": [
    {
     "name": "stdout",
     "output_type": "stream",
     "text": [
      "Dataset train1 loaded, size = 20000\n",
      "Dataset train2 loaded, size = 20000\n",
      "Dataset test loaded, size = 20000\n"
     ]
    }
   ],
   "source": [
    "class Environment:\n",
    "    def __init__(self, dataset: MNISTDataset) -> None:\n",
    "        self.size = len(dataset)\n",
    "        images = []\n",
    "        targets = []\n",
    "        for image, target in dataset:\n",
    "            images.append(image.unsqueeze_(0))\n",
    "            targets.append(target)\n",
    "        self.images = torch.cat(images, dim=0).to(device)\n",
    "        self.targets = torch.Tensor(targets).unsqueeze_(1).to(device)\n",
    "        self.loss = None\n",
    "        self.accuracy = None\n",
    "        self.penalty = None\n",
    "\n",
    "    def update(self, inputs):\n",
    "        self.loss = F.binary_cross_entropy_with_logits(self.targets, inputs)\n",
    "        predictions = (inputs > 0.).float()\n",
    "        self.accuracy = ((self.targets - predictions).abs() < 0.01).float().mean()\n",
    "        scale = torch.tensor(1., requires_grad=True).to(device)\n",
    "        loss = F.binary_cross_entropy_with_logits(scale * inputs, self.targets)\n",
    "        gradient = autograd.grad(loss, [scale], create_graph=True)[0]\n",
    "        self.penalty = torch.sum(gradient ** 2)\n",
    "\n",
    "\n",
    "train1 = Environment(MNISTDataset('./ColoredMNIST/train1.pt'))\n",
    "print(\"Dataset train1 loaded, size = {}\".format(train1.size))\n",
    "\n",
    "train2 = Environment(MNISTDataset('./ColoredMNIST/train2.pt'))\n",
    "print(\"Dataset train2 loaded, size = {}\".format(train1.size))\n",
    "\n",
    "test = Environment(MNISTDataset('./ColoredMNIST/test.pt'))\n",
    "print(\"Dataset test loaded, size = {}\".format(train1.size))"
   ],
   "metadata": {
    "collapsed": false,
    "pycharm": {
     "name": "#%%\n"
    }
   }
  },
  {
   "cell_type": "markdown",
   "source": [
    "#### MLP model construction"
   ],
   "metadata": {
    "collapsed": false,
    "pycharm": {
     "name": "#%% md\n"
    }
   }
  },
  {
   "cell_type": "code",
   "execution_count": 4,
   "outputs": [],
   "source": [
    "class MNISTModel(nn.Module):\n",
    "    def __init__(self):\n",
    "        super(MNISTModel, self).__init__()\n",
    "        layer1 = nn.Linear(3 * 14 * 14, 256)\n",
    "        layer2 = nn.Linear(256, 256)\n",
    "        layer3 = nn.Linear(256, 1)\n",
    "        for layer in [layer1, layer2, layer3]:\n",
    "            nn.init.xavier_uniform_(layer.weight)\n",
    "            nn.init.zeros_(layer.bias)\n",
    "        self.model = nn.Sequential(\n",
    "            nn.Flatten(),\n",
    "            layer1,\n",
    "            nn.ReLU(True),\n",
    "            layer2,\n",
    "            nn.ReLU(True),\n",
    "            layer3\n",
    "        )\n",
    "\n",
    "    def forward(self, inputs):\n",
    "        outputs = self.model(inputs)\n",
    "        return outputs"
   ],
   "metadata": {
    "collapsed": false,
    "pycharm": {
     "name": "#%%\n"
    }
   }
  },
  {
   "cell_type": "markdown",
   "source": [
    "#### Training & Validation"
   ],
   "metadata": {
    "collapsed": false,
    "pycharm": {
     "name": "#%% md\n"
    }
   }
  },
  {
   "cell_type": "code",
   "execution_count": 8,
   "outputs": [
    {
     "name": "stdout",
     "output_type": "stream",
     "text": [
      "Epoch: 0, Train Accuracy: 0.5112, Test Accuracy: 0.4811\n",
      "Train Loss: 1.0498, Test Loss: 1.0480\n",
      "Train Penalty: 0.0000, Penalty Weight: 1.0000\n",
      "\n",
      "Epoch: 100, Train Accuracy: 0.8053, Test Accuracy: 0.3110\n",
      "Train Loss: -3.3977, Test Loss: 0.7280\n",
      "Train Penalty: 0.2413, Penalty Weight: 1609.6881\n",
      "\n",
      "Epoch: 200, Train Accuracy: 0.7216, Test Accuracy: 0.5885\n",
      "Train Loss: 0.2876, Test Loss: 0.9512\n",
      "Train Penalty: 0.0004, Penalty Weight: 874962.2805\n",
      "\n",
      "Epoch: 300, Train Accuracy: 0.6883, Test Accuracy: 0.6374\n",
      "Train Loss: 0.4837, Test Loss: 0.9360\n",
      "Train Penalty: 0.0001, Penalty Weight: 3016720.8914\n",
      "\n",
      "Epoch: 400, Train Accuracy: 0.6707, Test Accuracy: 0.6571\n",
      "Train Loss: 0.5707, Test Loss: 0.9251\n",
      "Train Penalty: 0.0000, Penalty Weight: 8766737.0669\n",
      "\n",
      "Epoch: 500, Train Accuracy: 0.6592, Test Accuracy: 0.6678\n",
      "Train Loss: 0.6170, Test Loss: 0.9184\n",
      "Train Penalty: 0.0000, Penalty Weight: 23465817.1871\n",
      "\n",
      "Epoch: 600, Train Accuracy: 0.6528, Test Accuracy: 0.6730\n",
      "Train Loss: 0.6440, Test Loss: 0.9144\n",
      "Train Penalty: 0.0000, Penalty Weight: 60198600.9222\n",
      "\n",
      "Epoch: 700, Train Accuracy: 0.6482, Test Accuracy: 0.6757\n",
      "Train Loss: 0.6602, Test Loss: 0.9115\n",
      "Train Penalty: 0.0000, Penalty Weight: 154446630.2605\n",
      "\n",
      "Epoch: 800, Train Accuracy: 0.6456, Test Accuracy: 0.6765\n",
      "Train Loss: 0.6704, Test Loss: 0.9097\n",
      "Train Penalty: 0.0000, Penalty Weight: 407963218.0545\n",
      "\n",
      "Epoch: 900, Train Accuracy: 0.6439, Test Accuracy: 0.6769\n",
      "Train Loss: 0.6769, Test Loss: 0.9085\n",
      "Train Penalty: 0.0000, Penalty Weight: 1125283896.8541\n",
      "\n",
      "Epoch: 1000, Train Accuracy: 0.6430, Test Accuracy: 0.6768\n",
      "Train Loss: 0.6809, Test Loss: 0.9077\n",
      "Train Penalty: 0.0000, Penalty Weight: 3302873802.6777\n",
      "\n"
     ]
    }
   ],
   "source": [
    "model = MNISTModel().to(device)\n",
    "optimizer = optim.Adam(model.parameters(), lr=0.001)\n",
    "\n",
    "record_accuracy = []\n",
    "record_loss = []\n",
    "\n",
    "for epoch in range(1001):\n",
    "    for group in [train1, train2, test]:\n",
    "        results = model(group.images)\n",
    "        group.update(results)\n",
    "\n",
    "    train_loss = (train1.loss + train2.loss) / 2.\n",
    "    train_accuracy = (train1.accuracy + train2.accuracy) / 2.\n",
    "    train_penalty = (train1.penalty + train2.penalty) / 2.\n",
    "    test_loss = test.loss\n",
    "    test_accuracy = test.accuracy\n",
    "    record_accuracy.append([train_accuracy.item(), test_accuracy.item()])\n",
    "    record_loss.append([train_loss.item(), test_loss.item()])\n",
    "\n",
    "    parameter_norm = torch.tensor(0.).to(device)\n",
    "    for p in model.parameters():\n",
    "        parameter_norm += p.norm().pow(2)\n",
    "\n",
    "    norm_weight = 0.001\n",
    "    penalty_weight = 1.0 if epoch <= 80 else parameter_norm.item() / train_penalty.item()\n",
    "\n",
    "    total_loss = train_loss.clone()\n",
    "    total_loss += norm_weight * parameter_norm\n",
    "    total_loss += penalty_weight * train_penalty\n",
    "\n",
    "    if penalty_weight > 1.0:\n",
    "        total_loss /= penalty_weight\n",
    "\n",
    "    optimizer.zero_grad()\n",
    "    total_loss.backward()\n",
    "    optimizer.step()\n",
    "\n",
    "    if epoch % 100 == 0:\n",
    "        print(\"Epoch: {}, Train Accuracy: {:.4f}, Test Accuracy: {:.4f}\".format(epoch, train_accuracy, test_accuracy))\n",
    "        print(\"Train Loss: {:.4f}, Test Loss: {:.4f}\".format(train_loss, test_loss))\n",
    "        print(\"Train Penalty: {:.4f}, Penalty Weight: {:.4f}\\n\".format(train_penalty, penalty_weight))"
   ],
   "metadata": {
    "collapsed": false,
    "pycharm": {
     "name": "#%%\n"
    }
   }
  },
  {
   "cell_type": "markdown",
   "source": [
    "#### Learning curve"
   ],
   "metadata": {
    "collapsed": false,
    "pycharm": {
     "name": "#%% md\n"
    }
   }
  },
  {
   "cell_type": "code",
   "execution_count": 9,
   "outputs": [
    {
     "data": {
      "text/plain": "<Figure size 720x720 with 1 Axes>",
      "image/png": "[encoded data removed]"
     },
     "metadata": {
      "needs_background": "light"
     },
     "output_type": "display_data"
    },
    {
     "data": {
      "text/plain": "<Figure size 720x720 with 1 Axes>",
      "image/png": "[encoded data removed]"
     },
     "metadata": {
      "needs_background": "light"
     },
     "output_type": "display_data"
    }
   ],
   "source": [
    "steps = np.linspace(0, 1000, 1001)\n",
    "record_accuracy = np.array(record_accuracy)\n",
    "record_loss = np.array(record_loss)\n",
    "\n",
    "plt.figure(1, figsize=(10, 10))\n",
    "plt.plot(steps, record_accuracy[:, 0], c='purple', label='Train')\n",
    "plt.plot(steps, record_accuracy[:, 1], c='yellow', label='Test')\n",
    "plt.xlabel('Epoch')\n",
    "plt.ylabel('Accuracy')\n",
    "plt.legend(prop={'size': 20})\n",
    "plt.show()\n",
    "\n",
    "plt.figure(2, figsize=(10, 10))\n",
    "plt.plot(steps, record_loss[:, 0], c='purple', label='Train')\n",
    "plt.plot(steps, record_loss[:, 1], c='yellow', label='Test')\n",
    "plt.xlabel('Epoch')\n",
    "plt.ylabel('Loss')\n",
    "plt.legend(prop={'size': 20})\n",
    "plt.show()"
   ],
   "metadata": {
    "collapsed": false,
    "pycharm": {
     "name": "#%%\n"
    }
   }
  }
 ],
 "metadata": {
  "kernelspec": {
   "display_name": "Python 3",
   "language": "python",
   "name": "python3"
  },
  "language_info": {
   "codemirror_mode": {
    "name": "ipython",
    "version": 2
   },
   "file_extension": ".py",
   "mimetype": "text/x-python",
   "name": "python",
   "nbconvert_exporter": "python",
   "pygments_lexer": "ipython2",
   "version": "2.7.6"
  }
 },
 "nbformat": 4,
 "nbformat_minor": 0
}
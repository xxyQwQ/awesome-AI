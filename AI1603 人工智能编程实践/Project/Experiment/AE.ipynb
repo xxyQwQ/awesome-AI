{
 "cells": [
  {
   "cell_type": "code",
   "execution_count": 1,
   "metadata": {
    "collapsed": true,
    "pycharm": {
     "name": "#%%\n"
    }
   },
   "outputs": [
    {
     "name": "stdout",
     "output_type": "stream",
     "text": [
      "Device: cuda:0\n"
     ]
    }
   ],
   "source": [
    "import torch\n",
    "from torch import nn\n",
    "from torch.utils.data import DataLoader\n",
    "from torchvision import datasets, transforms\n",
    "\n",
    "from sklearn import metrics\n",
    "from sklearn.ensemble import RandomForestClassifier\n",
    "\n",
    "import numpy as np\n",
    "import matplotlib.pyplot as plt\n",
    "\n",
    "device = torch.device(\"cuda:0\" if torch.cuda.is_available() else \"cpu\")\n",
    "print(\"Device: {}\".format(device))"
   ]
  },
  {
   "cell_type": "code",
   "execution_count": 2,
   "outputs": [],
   "source": [
    "class MNISTDataset(datasets.VisionDataset):\n",
    "    def __init__(self, root: str) -> None:\n",
    "        super(MNISTDataset, self).__init__(root)\n",
    "        self.data_label = torch.load(root)\n",
    "        self.transform = transforms.Compose([\n",
    "            transforms.ToTensor()\n",
    "        ])\n",
    "        self.images = []\n",
    "        self.targets = []\n",
    "        for image, target in self.data_label:\n",
    "            self.images.append(np.array(image))\n",
    "            self.targets.append(target)\n",
    "        self.images = torch.tensor(np.array(self.images))\n",
    "        self.targets = torch.tensor(np.array(self.targets))\n",
    "\n",
    "    def __len__(self) -> int:\n",
    "        return 20000\n",
    "\n",
    "    def __getitem__(self, index):\n",
    "        image, target = self.data_label[index]\n",
    "        return self.transform(image), target\n",
    "\n",
    "\n",
    "train1_dataset = MNISTDataset('./ColoredMNIST/train1.pt')\n",
    "train1_dataloader = DataLoader(dataset=train1_dataset, batch_size=2000, shuffle=True)\n",
    "train2_dataset = MNISTDataset('./ColoredMNIST/train2.pt')\n",
    "train2_dataloader = DataLoader(dataset=train2_dataset, batch_size=2000, shuffle=True)\n",
    "test_dataset = MNISTDataset('./ColoredMNIST/test.pt')\n",
    "test_dataloader = DataLoader(dataset=test_dataset, batch_size=2000, shuffle=True)"
   ],
   "metadata": {
    "collapsed": false,
    "pycharm": {
     "name": "#%%\n"
    }
   }
  },
  {
   "cell_type": "code",
   "execution_count": 3,
   "outputs": [],
   "source": [
    "class AutoEncoder(torch.nn.Module):\n",
    "    def __init__(self):\n",
    "        super(AutoEncoder, self).__init__()\n",
    "        self.encoder = torch.nn.Sequential(\n",
    "            nn.Linear(3 * 28 * 28, 128),\n",
    "            nn.ReLU(True),\n",
    "            nn.Linear(128, 64),\n",
    "            nn.ReLU(True),\n",
    "            nn.Linear(64, 36),\n",
    "            nn.ReLU(True),\n",
    "            nn.Linear(36, 18),\n",
    "            nn.ReLU(True),\n",
    "            nn.Linear(18, 9),\n",
    "        )\n",
    "        self.decoder = torch.nn.Sequential(\n",
    "            nn.Linear(9, 18),\n",
    "            nn.ReLU(True),\n",
    "            nn.Linear(18, 36),\n",
    "            nn.ReLU(True),\n",
    "            nn.Linear(36, 64),\n",
    "            nn.ReLU(True),\n",
    "            nn.Linear(64, 128),\n",
    "            nn.ReLU(True),\n",
    "            nn.Linear(128, 3 * 28 * 28),\n",
    "            nn.Sigmoid()\n",
    "        )\n",
    "\n",
    "    def forward(self, x):\n",
    "        encoded = self.encoder(x)\n",
    "        decoded = self.decoder(encoded)\n",
    "        return decoded"
   ],
   "metadata": {
    "collapsed": false,
    "pycharm": {
     "name": "#%%\n"
    }
   }
  },
  {
   "cell_type": "code",
   "execution_count": 4,
   "outputs": [
    {
     "name": "stdout",
     "output_type": "stream",
     "text": [
      "Epoch: 0, Loss: 0.2922974228858948\n",
      "Epoch: 1, Loss: 0.295688658952713\n",
      "Epoch: 2, Loss: 0.29485470056533813\n",
      "Epoch: 3, Loss: 0.2984004020690918\n",
      "Epoch: 4, Loss: 0.29425323009490967\n",
      "Epoch: 5, Loss: 0.29055628180503845\n",
      "Epoch: 6, Loss: 0.2952757775783539\n",
      "Epoch: 7, Loss: 0.294996440410614\n"
     ]
    },
    {
     "data": {
      "text/plain": "<Figure size 504x504 with 1 Axes>",
      "image/png": "[encoded data removed]"
     },
     "metadata": {
      "needs_background": "light"
     },
     "output_type": "display_data"
    }
   ],
   "source": [
    "model = AutoEncoder().to(device)\n",
    "loss_function = torch.nn.MSELoss()\n",
    "optimizer = torch.optim.Adam(model.parameters(), lr=0.01)\n",
    "\n",
    "total_epoch = 8\n",
    "record_loss = []\n",
    "\n",
    "for epoch in range(total_epoch):\n",
    "    for group in [train1_dataloader, train2_dataloader]:\n",
    "        for images, _ in group:\n",
    "            images = images.to(device).reshape(-1, 3 * 28 * 28)\n",
    "            outputs = model(images)\n",
    "            loss = loss_function(outputs, images)\n",
    "            optimizer.zero_grad()\n",
    "            loss.backward()\n",
    "            optimizer.step()\n",
    "            record_loss.append(loss.item())\n",
    "    for group in [test_dataloader]:\n",
    "        for images, _ in group:\n",
    "            images = images.to(device).reshape(-1, 3 * 28 * 28)\n",
    "            outputs = model(images)\n",
    "            loss = 8.0 * loss_function(outputs, images)\n",
    "            optimizer.zero_grad()\n",
    "            loss.backward()\n",
    "            optimizer.step()\n",
    "            record_loss.append(loss.item())\n",
    "    print(\"Epoch: {}, Loss: {}\".format(epoch, record_loss[-1]))\n",
    "\n",
    "plt.figure(figsize=(7, 7))\n",
    "plt.plot(record_loss[:])\n",
    "plt.xlim((0, total_epoch))\n",
    "plt.xlabel('Epoch')\n",
    "plt.ylabel('Loss')\n",
    "plt.show()"
   ],
   "metadata": {
    "collapsed": false,
    "pycharm": {
     "name": "#%%\n"
    }
   }
  },
  {
   "cell_type": "code",
   "execution_count": 7,
   "outputs": [],
   "source": [
    "model.cpu()\n",
    "\n",
    "inputs = train1_dataset.images.reshape((20000, -1)).to(torch.float32)\n",
    "train1_x = model.encoder(inputs).detach().numpy()\n",
    "train1_y = train1_dataset.targets.detach().numpy()\n",
    "\n",
    "inputs = train2_dataset.images.reshape((20000, -1)).to(torch.float32)\n",
    "train2_x = model.encoder(inputs).detach().numpy()\n",
    "train2_y = train2_dataset.targets.detach().numpy()\n",
    "\n",
    "train_x = np.concatenate((train1_x, train2_x), axis=0)\n",
    "train_y = np.concatenate((train1_y, train2_y), axis=0)\n",
    "\n",
    "inputs = test_dataset.images.reshape((20000, -1)).to(torch.float32)\n",
    "test_x = model.encoder(inputs).detach().numpy()\n",
    "test_y = test_dataset.targets.detach().numpy()"
   ],
   "metadata": {
    "collapsed": false,
    "pycharm": {
     "name": "#%%\n"
    }
   }
  },
  {
   "cell_type": "code",
   "execution_count": 9,
   "outputs": [
    {
     "name": "stdout",
     "output_type": "stream",
     "text": [
      "Depth: 1, Accuracy: 0.5096\n",
      "Depth: 2, Accuracy: 0.5124\n",
      "Depth: 3, Accuracy: 0.52015\n",
      "Depth: 4, Accuracy: 0.51145\n",
      "Depth: 5, Accuracy: 0.5118\n",
      "Depth: 6, Accuracy: 0.5158\n",
      "Depth: 7, Accuracy: 0.5167\n",
      "Depth: 8, Accuracy: 0.51055\n",
      "Depth: 9, Accuracy: 0.5105\n",
      "Depth: 10, Accuracy: 0.5137\n",
      "Depth: 11, Accuracy: 0.51335\n",
      "Depth: 12, Accuracy: 0.5138\n",
      "Depth: 13, Accuracy: 0.5139\n",
      "Depth: 14, Accuracy: 0.5152\n",
      "Depth: 15, Accuracy: 0.511\n"
     ]
    },
    {
     "data": {
      "text/plain": "<Figure size 504x504 with 1 Axes>",
      "image/png": "[encoded data removed]"
     },
     "metadata": {
      "needs_background": "light"
     },
     "output_type": "display_data"
    }
   ],
   "source": [
    "depths = np.linspace(1, 15, 15, dtype=int)\n",
    "results = []\n",
    "\n",
    "for depth in depths:\n",
    "    classifier = RandomForestClassifier(n_estimators=depth, n_jobs=4)\n",
    "    classifier.fit(train_x, train_y)\n",
    "    predict_y = classifier.predict(test_x)\n",
    "    accuracy = metrics.accuracy_score(predict_y, test_y)\n",
    "    results.append(accuracy)\n",
    "    print(\"Depth: {}, Accuracy: {}\".format(depth, accuracy))\n",
    "\n",
    "plt.figure(1, figsize=(7, 7))\n",
    "plt.plot(depths, results)\n",
    "plt.xlabel('Depth')\n",
    "plt.ylabel('Accuracy')\n",
    "plt.show()"
   ],
   "metadata": {
    "collapsed": false,
    "pycharm": {
     "name": "#%%\n"
    }
   }
  }
 ],
 "metadata": {
  "kernelspec": {
   "display_name": "Python 3",
   "language": "python",
   "name": "python3"
  },
  "language_info": {
   "codemirror_mode": {
    "name": "ipython",
    "version": 2
   },
   "file_extension": ".py",
   "mimetype": "text/x-python",
   "name": "python",
   "nbconvert_exporter": "python",
   "pygments_lexer": "ipython2",
   "version": "2.7.6"
  }
 },
 "nbformat": 4,
 "nbformat_minor": 0
}
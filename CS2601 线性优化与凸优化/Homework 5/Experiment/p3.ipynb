{
 "cells": [
  {
   "cell_type": "code",
   "execution_count": 9,
   "metadata": {},
   "outputs": [],
   "source": [
    "import numpy as np\n",
    "import cvxpy as cp\n",
    "m, n = 3, 2\n",
    "A = np.array([\n",
    "    [2, 1],\n",
    "    [1, 3],\n",
    "    [1, 2]\n",
    "])\n",
    "b = np.array([5, 6, -5])\n",
    "x = cp.Variable(n)"
   ]
  },
  {
   "cell_type": "code",
   "execution_count": 7,
   "metadata": {},
   "outputs": [
    {
     "name": "stdout",
     "output_type": "stream",
     "text": [
      "Solution status: optimal\n",
      "Optimal value: 5.333333333553781\n",
      "Optimal variable: x = [-0.33333333  0.33333333]\n"
     ]
    }
   ],
   "source": [
    "# 3(b)\n",
    "constraint = [\n",
    "    cp.norm_inf(x) <= 1\n",
    "]\n",
    "objective = cp.Minimize(cp.norm_inf(A @ x - b))\n",
    "problem = cp.Problem(objective, constraint)\n",
    "problem.solve()\n",
    "print(\"Solution status: {}\".format(problem.status))\n",
    "print(\"Optimal value: {}\".format(problem.value))\n",
    "print(\"Optimal variable: x = {}\".format(x.value))"
   ]
  },
  {
   "cell_type": "code",
   "execution_count": 10,
   "metadata": {},
   "outputs": [
    {
     "name": "stdout",
     "output_type": "stream",
     "text": [
      "Solution status: optimal\n",
      "Optimal value: 5.333333333260567\n",
      "Optimal variable: x = [-0.33333333  0.33333333]\n"
     ]
    }
   ],
   "source": [
    "# 3(c)\n",
    "t = cp.Variable()\n",
    "constraint = [\n",
    "    A @ x - b >= -t,\n",
    "    A @ x - b <= t,\n",
    "    x >= -1,\n",
    "    x <= 1\n",
    "]\n",
    "objective = cp.Minimize(t)\n",
    "problem = cp.Problem(objective, constraint)\n",
    "problem.solve()\n",
    "print(\"Solution status: {}\".format(problem.status))\n",
    "print(\"Optimal value: {}\".format(problem.value))\n",
    "print(\"Optimal variable: x = {}\".format(x.value))"
   ]
  }
 ],
 "metadata": {
  "kernelspec": {
   "display_name": "Python 3.10.6 ('optimization')",
   "language": "python",
   "name": "python3"
  },
  "language_info": {
   "codemirror_mode": {
    "name": "ipython",
    "version": 3
   },
   "file_extension": ".py",
   "mimetype": "text/x-python",
   "name": "python",
   "nbconvert_exporter": "python",
   "pygments_lexer": "ipython3",
   "version": "3.10.6"
  },
  "orig_nbformat": 4,
  "vscode": {
   "interpreter": {
    "hash": "06330614ef89ba12369ab53c4f25218ac2b2838de05cbaf2be124ab5e4f34ed1"
   }
  }
 },
 "nbformat": 4,
 "nbformat_minor": 2
}

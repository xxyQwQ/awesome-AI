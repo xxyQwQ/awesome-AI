{
 "cells": [
  {
   "cell_type": "code",
   "execution_count": 22,
   "metadata": {},
   "outputs": [],
   "source": [
    "import numpy as np\n",
    "import cvxpy as cp\n",
    "m, n = 8, 6\n",
    "X = np.array([\n",
    "    [4, 1, 0, 4, 2, 0],\n",
    "    [2, 4, 1, 1, 0, 2],\n",
    "    [4, 4, 0, 4, 1, 4],\n",
    "    [1, 0, 2, 3, 1, 2],\n",
    "    [4, 4, 2, 2, 0, 1],\n",
    "    [2, 2, 0, 1, 2, 4],\n",
    "    [0, 1, 2, 1, 4, 2],\n",
    "    [0, 0, 1, 0, 1, 3]\n",
    "])\n",
    "y = np.array([5, 0, 5, 0, 4, 2, 5, 3])"
   ]
  },
  {
   "cell_type": "code",
   "execution_count": 23,
   "metadata": {},
   "outputs": [
    {
     "name": "stdout",
     "output_type": "stream",
     "text": [
      "Least square solution: [ 1.22170662 -0.21469307  0.15549204 -0.4586777   1.18537706  0.00613317]\n",
      "Least square error: 13.295569218196665\n"
     ]
    }
   ],
   "source": [
    "# 4(a)\n",
    "w = np.linalg.inv(X.T @ X) @ (X.T @ y)\n",
    "e = np.sum(np.square(X @ w - y))\n",
    "print(\"Least square solution: {}\".format(w))\n",
    "print(\"Least square error: {}\".format(e))"
   ]
  },
  {
   "cell_type": "code",
   "execution_count": 24,
   "metadata": {},
   "outputs": [
    {
     "name": "stdout",
     "output_type": "stream",
     "text": [
      "---------- Case t = 1 ----------\n",
      "Solution status: optimal\n",
      "Optimal value: 31.314550054478023\n",
      "Optimal variable: x = [5.54241960e-01 4.31525539e-09 9.92071629e-10 9.38255329e-09\n",
      " 4.30602870e-01 1.51551568e-02]\n",
      "---------- Case t = 10 ----------\n",
      "Solution status: optimal\n",
      "Optimal value: 13.295569218508422\n",
      "Optimal variable: x = [ 1.22171615 -0.21469843  0.15549443 -0.45868521  1.18537859  0.00613412]\n"
     ]
    }
   ],
   "source": [
    "# 4(b)\n",
    "for t in [1, 10]:\n",
    "    print(\"---------- Case t = {} ----------\".format(t))\n",
    "    w = cp.Variable(n)\n",
    "    constraint = [\n",
    "        cp.norm1(w) <= t\n",
    "    ]\n",
    "    objective = cp.Minimize(cp.norm2(X @ w - y) ** 2)\n",
    "    problem = cp.Problem(objective, constraint)\n",
    "    problem.solve()\n",
    "    print(\"Solution status: {}\".format(problem.status))\n",
    "    print(\"Optimal value: {}\".format(problem.value))\n",
    "    print(\"Optimal variable: x = {}\".format(w.value))"
   ]
  },
  {
   "cell_type": "code",
   "execution_count": 25,
   "metadata": {},
   "outputs": [
    {
     "name": "stdout",
     "output_type": "stream",
     "text": [
      "---------- Case t = 1 ----------\n",
      "Solution status: optimal\n",
      "Optimal value: 16.173131057359125\n",
      "Optimal variable: x = [0.52516383 0.08616926 0.09403005 0.12515129 0.82965381 0.06283205]\n",
      "---------- Case t = 100 ----------\n",
      "Solution status: optimal\n",
      "Optimal value: 13.295569218196668\n",
      "Optimal variable: x = [ 1.22170662 -0.21469308  0.15549205 -0.4586777   1.18537705  0.00613318]\n"
     ]
    }
   ],
   "source": [
    "# 4(c)\n",
    "for t in [1, 100]:\n",
    "    print(\"---------- Case t = {} ----------\".format(t))\n",
    "    w = cp.Variable(n)\n",
    "    constraint = [\n",
    "        cp.norm2(w) ** 2 <= t\n",
    "    ]\n",
    "    objective = cp.Minimize(cp.norm2(X @ w - y) ** 2)\n",
    "    problem = cp.Problem(objective, constraint)\n",
    "    problem.solve()\n",
    "    print(\"Solution status: {}\".format(problem.status))\n",
    "    print(\"Optimal value: {}\".format(problem.value))\n",
    "    print(\"Optimal variable: x = {}\".format(w.value))"
   ]
  }
 ],
 "metadata": {
  "kernelspec": {
   "display_name": "Python 3.10.6 ('optimization')",
   "language": "python",
   "name": "python3"
  },
  "language_info": {
   "codemirror_mode": {
    "name": "ipython",
    "version": 3
   },
   "file_extension": ".py",
   "mimetype": "text/x-python",
   "name": "python",
   "nbconvert_exporter": "python",
   "pygments_lexer": "ipython3",
   "version": "3.10.6"
  },
  "orig_nbformat": 4,
  "vscode": {
   "interpreter": {
    "hash": "06330614ef89ba12369ab53c4f25218ac2b2838de05cbaf2be124ab5e4f34ed1"
   }
  }
 },
 "nbformat": 4,
 "nbformat_minor": 2
}

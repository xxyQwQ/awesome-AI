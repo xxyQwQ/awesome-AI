{
 "cells": [
  {
   "cell_type": "code",
   "execution_count": 4,
   "metadata": {},
   "outputs": [],
   "source": [
    "import cvxpy as cp\n",
    "x1 = cp.Variable()\n",
    "x2 = cp.Variable()\n",
    "constraint = [\n",
    "    x1 + 2 * x2 >= 1,\n",
    "    3 * x1 + x2 >= 1,\n",
    "    x1 >= 0,\n",
    "    x2 >= 0\n",
    "]"
   ]
  },
  {
   "cell_type": "code",
   "execution_count": 7,
   "metadata": {},
   "outputs": [
    {
     "name": "stdout",
     "output_type": "stream",
     "text": [
      "Solution status: optimal\n",
      "Optimal value: 0.5999999999116254\n",
      "Optimal variable: x = [0.1999999999391762, 0.3999999999724492]\n"
     ]
    }
   ],
   "source": [
    "# 2(a)\n",
    "objective = cp.Minimize(x1 + x2)\n",
    "problem = cp.Problem(objective, constraint)\n",
    "problem.solve()\n",
    "print(\"Solution status: {}\".format(problem.status))\n",
    "print(\"Optimal value: {}\".format(problem.value))\n",
    "print(\"Optimal variable: x = [{}, {}]\".format(x1.value, x2.value))"
   ]
  },
  {
   "cell_type": "code",
   "execution_count": 8,
   "metadata": {},
   "outputs": [
    {
     "name": "stdout",
     "output_type": "stream",
     "text": [
      "Solution status: unbounded\n",
      "Optimal value: -inf\n",
      "Optimal variable: x = [None, None]\n"
     ]
    }
   ],
   "source": [
    "# 2(b)\n",
    "objective = cp.Minimize(-x1 - x2)\n",
    "problem = cp.Problem(objective, constraint)\n",
    "problem.solve()\n",
    "print(\"Solution status: {}\".format(problem.status))\n",
    "print(\"Optimal value: {}\".format(problem.value))\n",
    "print(\"Optimal variable: x = [{}, {}]\".format(x1.value, x2.value))"
   ]
  },
  {
   "cell_type": "code",
   "execution_count": 9,
   "metadata": {},
   "outputs": [
    {
     "name": "stdout",
     "output_type": "stream",
     "text": [
      "Solution status: optimal\n",
      "Optimal value: -1.232214801046685e-10\n",
      "Optimal variable: x = [-1.232214801046685e-10, 1.7673174212389093]\n"
     ]
    }
   ],
   "source": [
    "# 2(c)\n",
    "objective = cp.Minimize(x1)\n",
    "problem = cp.Problem(objective, constraint)\n",
    "problem.solve()\n",
    "print(\"Solution status: {}\".format(problem.status))\n",
    "print(\"Optimal value: {}\".format(problem.value))\n",
    "print(\"Optimal variable: x = [{}, {}]\".format(x1.value, x2.value))"
   ]
  },
  {
   "cell_type": "code",
   "execution_count": 11,
   "metadata": {},
   "outputs": [
    {
     "name": "stdout",
     "output_type": "stream",
     "text": [
      "Solution status: optimal\n",
      "Optimal value: 0.3333333334080862\n",
      "Optimal variable: x = [0.33333333286259564, 0.3333333334080862]\n"
     ]
    }
   ],
   "source": [
    "# 2(d)\n",
    "objective = cp.Minimize(cp.maximum(x1, x2))\n",
    "problem = cp.Problem(objective, constraint)\n",
    "problem.solve()\n",
    "print(\"Solution status: {}\".format(problem.status))\n",
    "print(\"Optimal value: {}\".format(problem.value))\n",
    "print(\"Optimal variable: x = [{}, {}]\".format(x1.value, x2.value))"
   ]
  },
  {
   "cell_type": "code",
   "execution_count": 13,
   "metadata": {},
   "outputs": [
    {
     "name": "stdout",
     "output_type": "stream",
     "text": [
      "Solution status: optimal\n",
      "Optimal value: 0.6923076923076925\n",
      "Optimal variable: x = [0.6923076923076924, 0.15384615384615388]\n"
     ]
    }
   ],
   "source": [
    "# 2(e)\n",
    "objective = cp.Minimize((x1 ** 2) + 9 * (x2 ** 2))\n",
    "problem = cp.Problem(objective, constraint)\n",
    "problem.solve()\n",
    "print(\"Solution status: {}\".format(problem.status))\n",
    "print(\"Optimal value: {}\".format(problem.value))\n",
    "print(\"Optimal variable: x = [{}, {}]\".format(x1.value, x2.value))"
   ]
  }
 ],
 "metadata": {
  "kernelspec": {
   "display_name": "Python 3.10.6 ('optimization')",
   "language": "python",
   "name": "python3"
  },
  "language_info": {
   "codemirror_mode": {
    "name": "ipython",
    "version": 3
   },
   "file_extension": ".py",
   "mimetype": "text/x-python",
   "name": "python",
   "nbconvert_exporter": "python",
   "pygments_lexer": "ipython3",
   "version": "3.10.6"
  },
  "orig_nbformat": 4,
  "vscode": {
   "interpreter": {
    "hash": "06330614ef89ba12369ab53c4f25218ac2b2838de05cbaf2be124ab5e4f34ed1"
   }
  }
 },
 "nbformat": 4,
 "nbformat_minor": 2
}
